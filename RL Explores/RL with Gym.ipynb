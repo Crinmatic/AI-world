{
 "cells": [
  {
   "cell_type": "code",
   "execution_count": 3,
   "metadata": {},
   "outputs": [],
   "source": [
    "import time\n",
    "import gym\n",
    "import numpy as np"
   ]
  },
  {
   "cell_type": "code",
   "execution_count": 4,
   "metadata": {},
   "outputs": [],
   "source": [
    "env = gym.make('FrozenLake-v0')"
   ]
  },
  {
   "cell_type": "code",
   "execution_count": 6,
   "metadata": {},
   "outputs": [
    {
     "name": "stdout",
     "output_type": "stream",
     "text": [
      "0\n",
      "\n"
     ]
    }
   ],
   "source": [
    "s = env.reset()\n",
    "print(s)\n",
    "print()"
   ]
  },
  {
   "cell_type": "code",
   "execution_count": 7,
   "metadata": {},
   "outputs": [
    {
     "name": "stdout",
     "output_type": "stream",
     "text": [
      "\n",
      "\u001b[41mS\u001b[0mFFF\n",
      "FHFH\n",
      "FFFH\n",
      "HFFG\n"
     ]
    }
   ],
   "source": [
    "env.render()"
   ]
  },
  {
   "cell_type": "code",
   "execution_count": 8,
   "metadata": {},
   "outputs": [
    {
     "data": {
      "text/plain": [
       "Discrete(4)"
      ]
     },
     "execution_count": 8,
     "metadata": {},
     "output_type": "execute_result"
    }
   ],
   "source": [
    "env.action_space"
   ]
  },
  {
   "cell_type": "code",
   "execution_count": 9,
   "metadata": {},
   "outputs": [
    {
     "data": {
      "text/plain": [
       "16"
      ]
     },
     "execution_count": 9,
     "metadata": {},
     "output_type": "execute_result"
    }
   ],
   "source": [
    "env.observation_space.n"
   ]
  },
  {
   "cell_type": "code",
   "execution_count": 21,
   "metadata": {},
   "outputs": [],
   "source": [
    "u = np.zeros([env.observation_space.n])"
   ]
  },
  {
   "cell_type": "code",
   "execution_count": 22,
   "metadata": {},
   "outputs": [
    {
     "name": "stdout",
     "output_type": "stream",
     "text": [
      "value iteration converged at iteration# 13.\n"
     ]
    }
   ],
   "source": [
    "u[15]= 1\n",
    "u[[5,7,11,12]] = -1\n",
    "terms = [5,7,11,12,15]\n",
    "y = 0.8\n",
    "eps = 1e-3\n",
    "i =0\n",
    "while(True):\n",
    "    i+=1\n",
    "    prev_u = np.copy(u)\n",
    "    for s in range(env.observation_space.n):\n",
    "        q_sa = [sum([p*(r - y*prev_u[a_]) for p, a_, r, _ in env.env.P[a][a]]) for a in range(env.action_space.n)]\n",
    "        if s not in terms:\n",
    "            u[s] = max(q_sa)\n",
    "    if(np.sum(np.fabs(prev_u - u)) <= eps):\n",
    "        print('value iteration converged at iteration# %d.' %(i-1))\n",
    "        break"
   ]
  },
  {
   "cell_type": "code",
   "execution_count": 25,
   "metadata": {},
   "outputs": [
    {
     "name": "stdout",
     "output_type": "stream",
     "text": [
      "\n",
      "[0.17388684 0.17388684 0.17388684 0.17388684]\n",
      "[ 0.17388684 -1.          0.17388684 -1.        ]\n",
      "[ 0.17388684  0.17388684  0.17388684 -1.        ]\n",
      "[-1.          0.17388684  0.17388684  1.        ]\n"
     ]
    }
   ],
   "source": [
    "1\n",
    "print(u[:4])\n",
    "print(u[4:8])\n",
    "print(u[8:12])\n",
    "print(u[12:16])"
   ]
  },
  {
   "cell_type": "code",
   "execution_count": null,
   "metadata": {},
   "outputs": [],
   "source": []
  }
 ],
 "metadata": {
  "kernelspec": {
   "display_name": "Python 3",
   "language": "python",
   "name": "python3"
  },
  "language_info": {
   "codemirror_mode": {
    "name": "ipython",
    "version": 3
   },
   "file_extension": ".py",
   "mimetype": "text/x-python",
   "name": "python",
   "nbconvert_exporter": "python",
   "pygments_lexer": "ipython3",
   "version": "3.7.7"
  }
 },
 "nbformat": 4,
 "nbformat_minor": 4
}
